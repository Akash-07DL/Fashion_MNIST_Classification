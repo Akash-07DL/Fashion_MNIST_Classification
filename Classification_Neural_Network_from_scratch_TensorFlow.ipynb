{
  "nbformat": 4,
  "nbformat_minor": 0,
  "metadata": {
    "colab": {
      "name": "Classification_Neural_Network_from_scratch_TensorFlow.ipynb",
      "provenance": []
    },
    "kernelspec": {
      "name": "python3",
      "display_name": "Python 3"
    },
    "language_info": {
      "name": "python"
    }
  },
  "cells": [
    {
      "cell_type": "markdown",
      "metadata": {
        "id": "X32qbrmqqEXc"
      },
      "source": [
        "**Introduction**\n",
        "\n",
        "Hyperparameters are the variables that govern the training process and the topology of an ML model. These variables remain constant over the training process and directly impact the performance of your ML program. Hyperparameters are of two types:\n",
        "\n",
        "1. **Model hyperparameters** which influence model selection such as the number and width of hidden layers\n",
        "\n",
        "2. **Algorithm hyperparameters** which influence the speed and quality of the learning algorithm such as the learning rate for Stochastic Gradient Descent (SGD) and the number of nearest neighbors for a k Nearest Neighbors (KNN) classifier"
      ]
    },
    {
      "cell_type": "code",
      "metadata": {
        "colab": {
          "base_uri": "https://localhost:8080/"
        },
        "id": "1Z_S2a7ApqIJ",
        "outputId": "37882a05-5f82-4d3f-bad0-34f5ed1eeb8c"
      },
      "source": [
        "# Installing keras tuner. \n",
        "!pip install -q -U keras-tuner"
      ],
      "execution_count": null,
      "outputs": [
        {
          "output_type": "stream",
          "text": [
            "\u001b[?25l\r\u001b[K     |███▍                            | 10kB 16.2MB/s eta 0:00:01\r\u001b[K     |██████▉                         | 20kB 21.5MB/s eta 0:00:01\r\u001b[K     |██████████▏                     | 30kB 16.1MB/s eta 0:00:01\r\u001b[K     |█████████████▋                  | 40kB 14.1MB/s eta 0:00:01\r\u001b[K     |█████████████████               | 51kB 8.1MB/s eta 0:00:01\r\u001b[K     |████████████████████▍           | 61kB 9.4MB/s eta 0:00:01\r\u001b[K     |███████████████████████▊        | 71kB 8.7MB/s eta 0:00:01\r\u001b[K     |███████████████████████████▏    | 81kB 8.9MB/s eta 0:00:01\r\u001b[K     |██████████████████████████████▋ | 92kB 8.8MB/s eta 0:00:01\r\u001b[K     |████████████████████████████████| 102kB 5.9MB/s \n",
            "\u001b[?25h  Building wheel for kt-legacy (setup.py) ... \u001b[?25l\u001b[?25hdone\n"
          ],
          "name": "stdout"
        }
      ]
    },
    {
      "cell_type": "code",
      "metadata": {
        "id": "E3R__vpw_GfE",
        "colab": {
          "base_uri": "https://localhost:8080/"
        },
        "outputId": "6efd2546-8601-4335-ac7c-e8e092f6f1a1"
      },
      "source": [
        "# Importing required libraries\n",
        "import numpy as np\n",
        "import pandas as pd\n",
        "import tensorflow as tf\n",
        "from tensorflow import keras\n",
        "import matplotlib.pyplot as plt\n",
        "import kerastuner as kt"
      ],
      "execution_count": null,
      "outputs": [
        {
          "output_type": "stream",
          "text": [
            "/usr/local/lib/python3.7/dist-packages/ipykernel_launcher.py:7: DeprecationWarning: `import kerastuner` is deprecated, please use `import keras_tuner`.\n",
            "  import sys\n"
          ],
          "name": "stderr"
        }
      ]
    },
    {
      "cell_type": "markdown",
      "metadata": {
        "id": "2K6Cxx4lrJIM"
      },
      "source": [
        "**Data**\n",
        "\n",
        "The Fashion MNIST dataset which contains 70,000 grayscale images in 10 categories. The images show individual articles of clothing at low resolution (28 by 28 pixels). Here, 60,000 images are used to train the network and 10,000 images to evaluate how accurately the network learned to classify images."
      ]
    },
    {
      "cell_type": "code",
      "metadata": {
        "colab": {
          "base_uri": "https://localhost:8080/"
        },
        "id": "ZguJG9jlosSr",
        "outputId": "411d67d1-b8bc-4374-9863-4ebbda786302"
      },
      "source": [
        "# Accessing the images directly from TensorFlow.\n",
        "fashion_mnist = keras.datasets.fashion_mnist\n",
        "(train_img, train_labels), (test_img, test_labels) = fashion_mnist.load_data()\n",
        "\n",
        "# or we can directly use --\n",
        "#(img_train, label_train), (img_test, label_test) = keras.datasets.fashion_mnist.load_data()"
      ],
      "execution_count": null,
      "outputs": [
        {
          "output_type": "stream",
          "text": [
            "Downloading data from https://storage.googleapis.com/tensorflow/tf-keras-datasets/train-labels-idx1-ubyte.gz\n",
            "32768/29515 [=================================] - 0s 0us/step\n",
            "Downloading data from https://storage.googleapis.com/tensorflow/tf-keras-datasets/train-images-idx3-ubyte.gz\n",
            "26427392/26421880 [==============================] - 0s 0us/step\n",
            "Downloading data from https://storage.googleapis.com/tensorflow/tf-keras-datasets/t10k-labels-idx1-ubyte.gz\n",
            "8192/5148 [===============================================] - 0s 0us/step\n",
            "Downloading data from https://storage.googleapis.com/tensorflow/tf-keras-datasets/t10k-images-idx3-ubyte.gz\n",
            "4423680/4422102 [==============================] - 0s 0us/step\n"
          ],
          "name": "stdout"
        }
      ]
    },
    {
      "cell_type": "code",
      "metadata": {
        "id": "28d1WtjjpNAz"
      },
      "source": [
        "# Normalizing pixel values between 0 and 1\n",
        "train_img = train_img.astype('float32') / 255.0\n",
        "test_img = test_img.astype('float32') / 255.0"
      ],
      "execution_count": null,
      "outputs": []
    },
    {
      "cell_type": "markdown",
      "metadata": {
        "id": "FkxMvlAU8YXC"
      },
      "source": [
        "This shows that 60k images are on the training dataset and 10k images are on the test dataset."
      ]
    },
    {
      "cell_type": "code",
      "metadata": {
        "colab": {
          "base_uri": "https://localhost:8080/"
        },
        "id": "OORJJUZG7W6c",
        "outputId": "62d3d4e5-4e38-4a74-e049-23ee34ba001e"
      },
      "source": [
        "len(train_img), len(test_img)"
      ],
      "execution_count": null,
      "outputs": [
        {
          "output_type": "execute_result",
          "data": {
            "text/plain": [
              "(60000, 10000)"
            ]
          },
          "metadata": {
            "tags": []
          },
          "execution_count": 5
        }
      ]
    },
    {
      "cell_type": "markdown",
      "metadata": {
        "id": "cIH9_Q018lGQ"
      },
      "source": [
        "Every image in the training and test dataset are represent as 28 * 28 pixels."
      ]
    },
    {
      "cell_type": "code",
      "metadata": {
        "colab": {
          "base_uri": "https://localhost:8080/"
        },
        "id": "mVXbFZ7g7kjC",
        "outputId": "f7c0e6e2-77a8-4a0c-9517-024d165d6e8c"
      },
      "source": [
        "train_img.shape , test_img.shape"
      ],
      "execution_count": null,
      "outputs": [
        {
          "output_type": "execute_result",
          "data": {
            "text/plain": [
              "((60000, 28, 28), (10000, 28, 28))"
            ]
          },
          "metadata": {
            "tags": []
          },
          "execution_count": 6
        }
      ]
    },
    {
      "cell_type": "code",
      "metadata": {
        "colab": {
          "base_uri": "https://localhost:8080/"
        },
        "id": "qP0uQjvc7yJK",
        "outputId": "2aa67c88-f887-4f68-fc5d-0c9498a195c6"
      },
      "source": [
        "train_labels.shape, test_labels.shape"
      ],
      "execution_count": null,
      "outputs": [
        {
          "output_type": "execute_result",
          "data": {
            "text/plain": [
              "((60000,), (10000,))"
            ]
          },
          "metadata": {
            "tags": []
          },
          "execution_count": 7
        }
      ]
    },
    {
      "cell_type": "code",
      "metadata": {
        "colab": {
          "base_uri": "https://localhost:8080/"
        },
        "id": "QBeDhkNX783-",
        "outputId": "a0f0110e-58d1-4d62-8545-e59511a611a3"
      },
      "source": [
        "len(train_labels), len(test_labels)"
      ],
      "execution_count": null,
      "outputs": [
        {
          "output_type": "execute_result",
          "data": {
            "text/plain": [
              "(60000, 10000)"
            ]
          },
          "metadata": {
            "tags": []
          },
          "execution_count": 8
        }
      ]
    },
    {
      "cell_type": "markdown",
      "metadata": {
        "id": "qSzs4zDO9jTE"
      },
      "source": [
        "Each image is mapped to a single label and the class names are not included in the dataset, stroing them here for further usage."
      ]
    },
    {
      "cell_type": "code",
      "metadata": {
        "id": "u0r0wo5o8Gkj"
      },
      "source": [
        "class_names = ['T-shirt/top', 'Trouser', 'Pullover', 'Dress', 'Coat',\n",
        "               'Sandal', 'Shirt', 'Sneaker', 'Bag', 'Ankle boot']"
      ],
      "execution_count": null,
      "outputs": []
    },
    {
      "cell_type": "code",
      "metadata": {
        "colab": {
          "base_uri": "https://localhost:8080/",
          "height": 269
        },
        "id": "woKvuT9K9ZCM",
        "outputId": "bdd1caf4-77d4-4315-d17c-79cab72124a7"
      },
      "source": [
        "plt.figure()\n",
        "plt.imshow(train_img[0])\n",
        "plt.colorbar()\n",
        "plt.grid(False)\n",
        "plt.show()"
      ],
      "execution_count": null,
      "outputs": [
        {
          "output_type": "display_data",
          "data": {
            "image/png": "[encoded data removed]",
            "text/plain": [
              "<Figure size 432x288 with 2 Axes>"
            ]
          },
          "metadata": {
            "tags": [],
            "needs_background": "light"
          }
        }
      ]
    },
    {
      "cell_type": "code",
      "metadata": {
        "colab": {
          "base_uri": "https://localhost:8080/"
        },
        "id": "cI6pXcZP-H2K",
        "outputId": "8431adf8-2b57-4b83-c882-fa85e2a3fda6"
      },
      "source": [
        "# image as scaled numpy array.\n",
        "print(train_img[0])"
      ],
      "execution_count": null,
      "outputs": [
        {
          "output_type": "stream",
          "text": [
            "[[0.         0.         0.         0.         0.         0.\n",
            "  0.         0.         0.         0.         0.         0.\n",
            "  0.         0.         0.         0.         0.         0.\n",
            "  0.         0.         0.         0.         0.         0.\n",
            "  0.         0.         0.         0.        ]\n",
            " [0.         0.         0.         0.         0.         0.\n",
            "  0.         0.         0.         0.         0.         0.\n",
            "  0.         0.         0.         0.         0.         0.\n",
            "  0.         0.         0.         0.         0.         0.\n",
            "  0.         0.         0.         0.        ]\n",
            " [0.         0.         0.         0.         0.         0.\n",
            "  0.         0.         0.         0.         0.         0.\n",
            "  0.         0.         0.         0.         0.         0.\n",
            "  0.         0.         0.         0.         0.         0.\n",
            "  0.         0.         0.         0.        ]\n",
            " [0.         0.         0.         0.         0.         0.\n",
            "  0.         0.         0.         0.         0.         0.\n",
            "  0.00392157 0.         0.         0.05098039 0.28627452 0.\n",
            "  0.         0.00392157 0.01568628 0.         0.         0.\n",
            "  0.         0.00392157 0.00392157 0.        ]\n",
            " [0.         0.         0.         0.         0.         0.\n",
            "  0.         0.         0.         0.         0.         0.\n",
            "  0.01176471 0.         0.14117648 0.53333336 0.49803922 0.24313726\n",
            "  0.21176471 0.         0.         0.         0.00392157 0.01176471\n",
            "  0.01568628 0.         0.         0.01176471]\n",
            " [0.         0.         0.         0.         0.         0.\n",
            "  0.         0.         0.         0.         0.         0.\n",
            "  0.02352941 0.         0.4        0.8        0.6901961  0.5254902\n",
            "  0.5647059  0.48235294 0.09019608 0.         0.         0.\n",
            "  0.         0.04705882 0.03921569 0.        ]\n",
            " [0.         0.         0.         0.         0.         0.\n",
            "  0.         0.         0.         0.         0.         0.\n",
            "  0.         0.         0.60784316 0.9254902  0.8117647  0.69803923\n",
            "  0.41960785 0.6117647  0.6313726  0.42745098 0.2509804  0.09019608\n",
            "  0.3019608  0.50980395 0.28235295 0.05882353]\n",
            " [0.         0.         0.         0.         0.         0.\n",
            "  0.         0.         0.         0.         0.         0.00392157\n",
            "  0.         0.27058825 0.8117647  0.8745098  0.85490197 0.84705883\n",
            "  0.84705883 0.6392157  0.49803922 0.4745098  0.47843137 0.57254905\n",
            "  0.5529412  0.34509805 0.6745098  0.25882354]\n",
            " [0.         0.         0.         0.         0.         0.\n",
            "  0.         0.         0.         0.00392157 0.00392157 0.00392157\n",
            "  0.         0.78431374 0.9098039  0.9098039  0.9137255  0.8980392\n",
            "  0.8745098  0.8745098  0.84313726 0.8352941  0.6431373  0.49803922\n",
            "  0.48235294 0.76862746 0.8980392  0.        ]\n",
            " [0.         0.         0.         0.         0.         0.\n",
            "  0.         0.         0.         0.         0.         0.\n",
            "  0.         0.7176471  0.88235295 0.84705883 0.8745098  0.89411765\n",
            "  0.92156863 0.8901961  0.8784314  0.87058824 0.8784314  0.8666667\n",
            "  0.8745098  0.9607843  0.6784314  0.        ]\n",
            " [0.         0.         0.         0.         0.         0.\n",
            "  0.         0.         0.         0.         0.         0.\n",
            "  0.         0.75686276 0.89411765 0.85490197 0.8352941  0.7764706\n",
            "  0.7058824  0.83137256 0.8235294  0.827451   0.8352941  0.8745098\n",
            "  0.8627451  0.9529412  0.7921569  0.        ]\n",
            " [0.         0.         0.         0.         0.         0.\n",
            "  0.         0.         0.         0.00392157 0.01176471 0.\n",
            "  0.04705882 0.85882354 0.8627451  0.83137256 0.85490197 0.7529412\n",
            "  0.6627451  0.8901961  0.8156863  0.85490197 0.8784314  0.83137256\n",
            "  0.8862745  0.77254903 0.81960785 0.20392157]\n",
            " [0.         0.         0.         0.         0.         0.\n",
            "  0.         0.         0.         0.         0.02352941 0.\n",
            "  0.3882353  0.95686275 0.87058824 0.8627451  0.85490197 0.79607844\n",
            "  0.7764706  0.8666667  0.84313726 0.8352941  0.87058824 0.8627451\n",
            "  0.9607843  0.46666667 0.654902   0.21960784]\n",
            " [0.         0.         0.         0.         0.         0.\n",
            "  0.         0.         0.         0.01568628 0.         0.\n",
            "  0.21568628 0.9254902  0.89411765 0.9019608  0.89411765 0.9411765\n",
            "  0.9098039  0.8352941  0.85490197 0.8745098  0.91764706 0.8509804\n",
            "  0.8509804  0.81960785 0.36078432 0.        ]\n",
            " [0.         0.         0.00392157 0.01568628 0.02352941 0.02745098\n",
            "  0.00784314 0.         0.         0.         0.         0.\n",
            "  0.92941177 0.8862745  0.8509804  0.8745098  0.87058824 0.85882354\n",
            "  0.87058824 0.8666667  0.84705883 0.8745098  0.8980392  0.84313726\n",
            "  0.85490197 1.         0.3019608  0.        ]\n",
            " [0.         0.01176471 0.         0.         0.         0.\n",
            "  0.         0.         0.         0.24313726 0.5686275  0.8\n",
            "  0.89411765 0.8117647  0.8352941  0.8666667  0.85490197 0.8156863\n",
            "  0.827451   0.85490197 0.8784314  0.8745098  0.85882354 0.84313726\n",
            "  0.8784314  0.95686275 0.62352943 0.        ]\n",
            " [0.         0.         0.         0.         0.07058824 0.17254902\n",
            "  0.32156864 0.41960785 0.7411765  0.89411765 0.8627451  0.87058824\n",
            "  0.8509804  0.8862745  0.78431374 0.8039216  0.827451   0.9019608\n",
            "  0.8784314  0.91764706 0.6901961  0.7372549  0.98039216 0.972549\n",
            "  0.9137255  0.93333334 0.84313726 0.        ]\n",
            " [0.         0.22352941 0.73333335 0.8156863  0.8784314  0.8666667\n",
            "  0.8784314  0.8156863  0.8        0.8392157  0.8156863  0.81960785\n",
            "  0.78431374 0.62352943 0.9607843  0.75686276 0.80784315 0.8745098\n",
            "  1.         1.         0.8666667  0.91764706 0.8666667  0.827451\n",
            "  0.8627451  0.9098039  0.9647059  0.        ]\n",
            " [0.01176471 0.7921569  0.89411765 0.8784314  0.8666667  0.827451\n",
            "  0.827451   0.8392157  0.8039216  0.8039216  0.8039216  0.8627451\n",
            "  0.9411765  0.3137255  0.5882353  1.         0.8980392  0.8666667\n",
            "  0.7372549  0.6039216  0.7490196  0.8235294  0.8        0.81960785\n",
            "  0.87058824 0.89411765 0.88235295 0.        ]\n",
            " [0.38431373 0.9137255  0.7764706  0.8235294  0.87058824 0.8980392\n",
            "  0.8980392  0.91764706 0.9764706  0.8627451  0.7607843  0.84313726\n",
            "  0.8509804  0.94509804 0.25490198 0.28627452 0.41568628 0.45882353\n",
            "  0.65882355 0.85882354 0.8666667  0.84313726 0.8509804  0.8745098\n",
            "  0.8745098  0.8784314  0.8980392  0.11372549]\n",
            " [0.29411766 0.8        0.83137256 0.8        0.75686276 0.8039216\n",
            "  0.827451   0.88235295 0.84705883 0.7254902  0.77254903 0.80784315\n",
            "  0.7764706  0.8352941  0.9411765  0.7647059  0.8901961  0.9607843\n",
            "  0.9372549  0.8745098  0.85490197 0.83137256 0.81960785 0.87058824\n",
            "  0.8627451  0.8666667  0.9019608  0.2627451 ]\n",
            " [0.1882353  0.79607844 0.7176471  0.7607843  0.8352941  0.77254903\n",
            "  0.7254902  0.74509805 0.7607843  0.7529412  0.7921569  0.8392157\n",
            "  0.85882354 0.8666667  0.8627451  0.9254902  0.88235295 0.84705883\n",
            "  0.78039217 0.80784315 0.7294118  0.70980394 0.69411767 0.6745098\n",
            "  0.70980394 0.8039216  0.80784315 0.4509804 ]\n",
            " [0.         0.47843137 0.85882354 0.75686276 0.7019608  0.67058825\n",
            "  0.7176471  0.76862746 0.8        0.8235294  0.8352941  0.8117647\n",
            "  0.827451   0.8235294  0.78431374 0.76862746 0.7607843  0.7490196\n",
            "  0.7647059  0.7490196  0.7764706  0.7529412  0.6901961  0.6117647\n",
            "  0.654902   0.69411767 0.8235294  0.36078432]\n",
            " [0.         0.         0.2901961  0.7411765  0.83137256 0.7490196\n",
            "  0.6862745  0.6745098  0.6862745  0.70980394 0.7254902  0.7372549\n",
            "  0.7411765  0.7372549  0.75686276 0.7764706  0.8        0.81960785\n",
            "  0.8235294  0.8235294  0.827451   0.7372549  0.7372549  0.7607843\n",
            "  0.7529412  0.84705883 0.6666667  0.        ]\n",
            " [0.00784314 0.         0.         0.         0.25882354 0.78431374\n",
            "  0.87058824 0.92941177 0.9372549  0.9490196  0.9647059  0.9529412\n",
            "  0.95686275 0.8666667  0.8627451  0.75686276 0.7490196  0.7019608\n",
            "  0.7137255  0.7137255  0.70980394 0.6901961  0.6509804  0.65882355\n",
            "  0.3882353  0.22745098 0.         0.        ]\n",
            " [0.         0.         0.         0.         0.         0.\n",
            "  0.         0.15686275 0.23921569 0.17254902 0.28235295 0.16078432\n",
            "  0.13725491 0.         0.         0.         0.         0.\n",
            "  0.         0.         0.         0.         0.         0.\n",
            "  0.         0.         0.         0.        ]\n",
            " [0.         0.         0.         0.         0.         0.\n",
            "  0.         0.         0.         0.         0.         0.\n",
            "  0.         0.         0.         0.         0.         0.\n",
            "  0.         0.         0.         0.         0.         0.\n",
            "  0.         0.         0.         0.        ]\n",
            " [0.         0.         0.         0.         0.         0.\n",
            "  0.         0.         0.         0.         0.         0.\n",
            "  0.         0.         0.         0.         0.         0.\n",
            "  0.         0.         0.         0.         0.         0.\n",
            "  0.         0.         0.         0.        ]]\n"
          ],
          "name": "stdout"
        }
      ]
    },
    {
      "cell_type": "markdown",
      "metadata": {
        "id": "cg-8dNeBBU7I"
      },
      "source": [
        "Let's display the first 20 images from the training dataset. Figure size is (15, 15) and the subplots are size of (5,5). "
      ]
    },
    {
      "cell_type": "code",
      "metadata": {
        "colab": {
          "base_uri": "https://localhost:8080/",
          "height": 709
        },
        "id": "gjReLVT3-Mx3",
        "outputId": "f59464b8-bab0-48b8-9d3c-4ddb024586fb"
      },
      "source": [
        "plt.figure(figsize = (15,15))\n",
        "for i in range(20):\n",
        "    plt.subplot(5,5, i+1)\n",
        "    plt.xticks([])\n",
        "    plt.yticks([])\n",
        "    plt.grid(False)\n",
        "    plt.imshow(train_img[i], cmap = plt.cm.binary)\n",
        "    plt.xlabel(class_names[train_labels[i]])\n",
        "plt.show"
      ],
      "execution_count": null,
      "outputs": [
        {
          "output_type": "execute_result",
          "data": {
            "text/plain": [
              "<function matplotlib.pyplot.show>"
            ]
          },
          "metadata": {
            "tags": []
          },
          "execution_count": 12
        },
        {
          "output_type": "display_data",
          "data": {
            "image/png": "[encoded data removed]",
            "text/plain": [
              "<Figure size 1080x1080 with 20 Axes>"
            ]
          },
          "metadata": {
            "tags": []
          }
        }
      ]
    },
    {
      "cell_type": "markdown",
      "metadata": {
        "id": "9w0pn2oMB9yX"
      },
      "source": [
        "# Build a new simple model to fit the data for classification. "
      ]
    },
    {
      "cell_type": "markdown",
      "metadata": {
        "id": "AFZUWIj6aHuB"
      },
      "source": [
        "**MODEL-1**\n",
        "1. Flatten the image .\n",
        "2. Used ReLu as activation function, activity regularizer and bias regularizer as l1 regularisation.\n",
        "3. Epochs is set to 15."
      ]
    },
    {
      "cell_type": "code",
      "metadata": {
        "colab": {
          "base_uri": "https://localhost:8080/"
        },
        "id": "Bq23GO4aBQgR",
        "outputId": "764b1012-f11c-40b4-e683-549c21567b31"
      },
      "source": [
        "#set random seed.\n",
        "tf.random.set_seed(42)\n",
        "\n",
        "model1 = tf.keras.Sequential(name = 'MODEL-1')\n",
        "model1.add(tf.keras.layers.Flatten(input_shape = (28,28), name = 'input_layer' ))\n",
        "model1.add(tf.keras.layers.Dense(50, activation='relu', bias_regularizer = 'l1', activity_regularizer = 'l1', name = 'layer1' ))\n",
        "model1.add(tf.keras.layers.Dense(25, activation = 'relu',bias_regularizer = 'l1', activity_regularizer = 'l1', name = 'layer2'))\n",
        "model1.add(tf.keras.layers.Dense(15, activation= 'relu', bias_regularizer = 'l1', activity_regularizer = 'l1', name = 'layer3'))\n",
        "model1.add(tf.keras.layers.Dense(10, activation = 'relu', bias_regularizer = 'l1', activity_regularizer = 'l1', name = 'output_layer'))\n",
        "\n",
        "# Used adam as a optimization function, sparse categorical cross entropy as loss function and accuracy as metrics \n",
        "model1.compile(optimizer = 'adam',\n",
        "              loss = tf.keras.losses.SparseCategoricalCrossentropy(from_logits = True),\n",
        "              metrics = 'accuracy')\n",
        "\n",
        "# Fit the model with training image and traning labels.\n",
        "model1.fit(train_img, train_labels, epochs = 15)"
      ],
      "execution_count": null,
      "outputs": [
        {
          "output_type": "stream",
          "text": [
            "Epoch 1/15\n",
            "1875/1875 [==============================] - 4s 2ms/step - loss: 1.1002 - accuracy: 0.7065\n",
            "Epoch 2/15\n",
            "1875/1875 [==============================] - 3s 2ms/step - loss: 0.8230 - accuracy: 0.7623\n",
            "Epoch 3/15\n",
            "1875/1875 [==============================] - 3s 2ms/step - loss: 0.7688 - accuracy: 0.7739\n",
            "Epoch 4/15\n",
            "1875/1875 [==============================] - 3s 2ms/step - loss: 0.7386 - accuracy: 0.7883\n",
            "Epoch 5/15\n",
            "1875/1875 [==============================] - 3s 2ms/step - loss: 0.6974 - accuracy: 0.8188\n",
            "Epoch 6/15\n",
            "1875/1875 [==============================] - 3s 2ms/step - loss: 0.6604 - accuracy: 0.8362\n",
            "Epoch 7/15\n",
            "1875/1875 [==============================] - 3s 2ms/step - loss: 0.6415 - accuracy: 0.8409\n",
            "Epoch 8/15\n",
            "1875/1875 [==============================] - 3s 2ms/step - loss: 0.6278 - accuracy: 0.8446\n",
            "Epoch 9/15\n",
            "1875/1875 [==============================] - 3s 2ms/step - loss: 0.6229 - accuracy: 0.8444\n",
            "Epoch 10/15\n",
            "1875/1875 [==============================] - 3s 2ms/step - loss: 0.6129 - accuracy: 0.8469\n",
            "Epoch 11/15\n",
            "1875/1875 [==============================] - 3s 2ms/step - loss: 0.6059 - accuracy: 0.8485\n",
            "Epoch 12/15\n",
            "1875/1875 [==============================] - 3s 2ms/step - loss: 0.6022 - accuracy: 0.8481\n",
            "Epoch 13/15\n",
            "1875/1875 [==============================] - 3s 2ms/step - loss: 0.5979 - accuracy: 0.8504\n",
            "Epoch 14/15\n",
            "1875/1875 [==============================] - 3s 2ms/step - loss: 0.5913 - accuracy: 0.8524\n",
            "Epoch 15/15\n",
            "1875/1875 [==============================] - 3s 2ms/step - loss: 0.5886 - accuracy: 0.8544\n"
          ],
          "name": "stdout"
        },
        {
          "output_type": "execute_result",
          "data": {
            "text/plain": [
              "<tensorflow.python.keras.callbacks.History at 0x7f5723cdad90>"
            ]
          },
          "metadata": {
            "tags": []
          },
          "execution_count": 13
        }
      ]
    },
    {
      "cell_type": "code",
      "metadata": {
        "colab": {
          "base_uri": "https://localhost:8080/"
        },
        "id": "1Q4AaWc1I6i8",
        "outputId": "7019299c-180c-4a21-e6bf-a209bf93f89c"
      },
      "source": [
        "# Check the model summary.\n",
        "model1.summary()"
      ],
      "execution_count": null,
      "outputs": [
        {
          "output_type": "stream",
          "text": [
            "Model: \"MODEL-1\"\n",
            "_________________________________________________________________\n",
            "Layer (type)                 Output Shape              Param #   \n",
            "=================================================================\n",
            "input_layer (Flatten)        (None, 784)               0         \n",
            "_________________________________________________________________\n",
            "layer1 (Dense)               (None, 50)                39250     \n",
            "_________________________________________________________________\n",
            "layer2 (Dense)               (None, 25)                1275      \n",
            "_________________________________________________________________\n",
            "layer3 (Dense)               (None, 15)                390       \n",
            "_________________________________________________________________\n",
            "output_layer (Dense)         (None, 10)                160       \n",
            "=================================================================\n",
            "Total params: 41,075\n",
            "Trainable params: 41,075\n",
            "Non-trainable params: 0\n",
            "_________________________________________________________________\n"
          ],
          "name": "stdout"
        }
      ]
    },
    {
      "cell_type": "code",
      "metadata": {
        "colab": {
          "base_uri": "https://localhost:8080/"
        },
        "id": "NwUnZWpEKut_",
        "outputId": "3e01de89-8ae4-4e89-f88a-5206c59e967c"
      },
      "source": [
        "# Evaluating the model on the test dataset.\n",
        "test_loss, test_acc = model1.evaluate(test_img,  test_labels, verbose=2)\n",
        "\n",
        "print('\\nTest accuracy:', test_acc)"
      ],
      "execution_count": null,
      "outputs": [
        {
          "output_type": "stream",
          "text": [
            "313/313 - 0s - loss: 0.6636 - accuracy: 0.8258\n",
            "\n",
            "Test accuracy: 0.8258000016212463\n"
          ],
          "name": "stdout"
        }
      ]
    },
    {
      "cell_type": "markdown",
      "metadata": {
        "id": "hLXgfw5IfQ16"
      },
      "source": [
        "Let's run the model for longer time."
      ]
    },
    {
      "cell_type": "code",
      "metadata": {
        "colab": {
          "base_uri": "https://localhost:8080/"
        },
        "id": "LKoSQLVjfQg8",
        "outputId": "704c213f-34dd-465d-d65c-691b2fc7c223"
      },
      "source": [
        "model1.fit(train_img, train_labels, epochs = 50)"
      ],
      "execution_count": null,
      "outputs": [
        {
          "output_type": "stream",
          "text": [
            "Epoch 1/50\n",
            "1875/1875 [==============================] - 3s 2ms/step - loss: 0.5816 - accuracy: 0.8554\n",
            "Epoch 2/50\n",
            "1875/1875 [==============================] - 3s 2ms/step - loss: 0.5807 - accuracy: 0.8546\n",
            "Epoch 3/50\n",
            "1875/1875 [==============================] - 3s 2ms/step - loss: 0.5743 - accuracy: 0.8564\n",
            "Epoch 4/50\n",
            "1875/1875 [==============================] - 3s 2ms/step - loss: 0.5748 - accuracy: 0.8559\n",
            "Epoch 5/50\n",
            "1875/1875 [==============================] - 3s 2ms/step - loss: 0.5709 - accuracy: 0.8570\n",
            "Epoch 6/50\n",
            "1875/1875 [==============================] - 3s 2ms/step - loss: 0.5631 - accuracy: 0.8614\n",
            "Epoch 7/50\n",
            "1875/1875 [==============================] - 3s 2ms/step - loss: 0.5496 - accuracy: 0.8726\n",
            "Epoch 8/50\n",
            "1875/1875 [==============================] - 3s 2ms/step - loss: 0.5379 - accuracy: 0.8760\n",
            "Epoch 9/50\n",
            "1875/1875 [==============================] - 3s 2ms/step - loss: 0.5349 - accuracy: 0.8768\n",
            "Epoch 10/50\n",
            "1875/1875 [==============================] - 3s 2ms/step - loss: 0.5284 - accuracy: 0.8781\n",
            "Epoch 11/50\n",
            "1875/1875 [==============================] - 3s 2ms/step - loss: 0.5295 - accuracy: 0.8765\n",
            "Epoch 12/50\n",
            "1875/1875 [==============================] - 3s 2ms/step - loss: 0.5226 - accuracy: 0.8799\n",
            "Epoch 13/50\n",
            "1875/1875 [==============================] - 3s 2ms/step - loss: 0.5267 - accuracy: 0.8786\n",
            "Epoch 14/50\n",
            "1875/1875 [==============================] - 3s 2ms/step - loss: 0.5192 - accuracy: 0.8806\n",
            "Epoch 15/50\n",
            "1875/1875 [==============================] - 3s 2ms/step - loss: 0.5195 - accuracy: 0.8801\n",
            "Epoch 16/50\n",
            "1875/1875 [==============================] - 3s 2ms/step - loss: 0.5158 - accuracy: 0.8812\n",
            "Epoch 17/50\n",
            "1875/1875 [==============================] - 3s 2ms/step - loss: 0.5161 - accuracy: 0.8801\n",
            "Epoch 18/50\n",
            "1875/1875 [==============================] - 3s 2ms/step - loss: 0.5173 - accuracy: 0.8801\n",
            "Epoch 19/50\n",
            "1875/1875 [==============================] - 3s 2ms/step - loss: 0.5131 - accuracy: 0.8819\n",
            "Epoch 20/50\n",
            "1875/1875 [==============================] - 3s 2ms/step - loss: 0.5135 - accuracy: 0.8822\n",
            "Epoch 21/50\n",
            "1875/1875 [==============================] - 3s 2ms/step - loss: 0.5077 - accuracy: 0.8845\n",
            "Epoch 22/50\n",
            "1875/1875 [==============================] - 3s 2ms/step - loss: 0.5073 - accuracy: 0.8831\n",
            "Epoch 23/50\n",
            "1875/1875 [==============================] - 3s 2ms/step - loss: 0.5045 - accuracy: 0.8850\n",
            "Epoch 24/50\n",
            "1875/1875 [==============================] - 3s 2ms/step - loss: 0.5091 - accuracy: 0.8831\n",
            "Epoch 25/50\n",
            "1875/1875 [==============================] - 3s 2ms/step - loss: 0.4995 - accuracy: 0.8856\n",
            "Epoch 26/50\n",
            "1875/1875 [==============================] - 3s 2ms/step - loss: 0.5070 - accuracy: 0.8834\n",
            "Epoch 27/50\n",
            "1875/1875 [==============================] - 3s 2ms/step - loss: 0.5072 - accuracy: 0.8839\n",
            "Epoch 28/50\n",
            "1875/1875 [==============================] - 3s 2ms/step - loss: 0.5047 - accuracy: 0.8848\n",
            "Epoch 29/50\n",
            "1875/1875 [==============================] - 3s 2ms/step - loss: 0.5045 - accuracy: 0.8843\n",
            "Epoch 30/50\n",
            "1875/1875 [==============================] - 3s 2ms/step - loss: 0.5027 - accuracy: 0.8860\n",
            "Epoch 31/50\n",
            "1875/1875 [==============================] - 3s 2ms/step - loss: 0.5018 - accuracy: 0.8854\n",
            "Epoch 32/50\n",
            "1875/1875 [==============================] - 3s 2ms/step - loss: 0.5012 - accuracy: 0.8855\n",
            "Epoch 33/50\n",
            "1875/1875 [==============================] - 3s 2ms/step - loss: 0.4999 - accuracy: 0.8853\n",
            "Epoch 34/50\n",
            "1875/1875 [==============================] - 3s 2ms/step - loss: 0.5074 - accuracy: 0.8828\n",
            "Epoch 35/50\n",
            "1875/1875 [==============================] - 3s 2ms/step - loss: 0.4984 - accuracy: 0.8857\n",
            "Epoch 36/50\n",
            "1875/1875 [==============================] - 3s 2ms/step - loss: 0.4979 - accuracy: 0.8868\n",
            "Epoch 37/50\n",
            "1875/1875 [==============================] - 3s 2ms/step - loss: 0.5005 - accuracy: 0.8863\n",
            "Epoch 38/50\n",
            "1875/1875 [==============================] - 3s 2ms/step - loss: 0.4950 - accuracy: 0.8869\n",
            "Epoch 39/50\n",
            "1875/1875 [==============================] - 3s 2ms/step - loss: 0.4944 - accuracy: 0.8876\n",
            "Epoch 40/50\n",
            "1875/1875 [==============================] - 3s 2ms/step - loss: 0.4970 - accuracy: 0.8872\n",
            "Epoch 41/50\n",
            "1875/1875 [==============================] - 3s 2ms/step - loss: 0.4914 - accuracy: 0.8886\n",
            "Epoch 42/50\n",
            "1875/1875 [==============================] - 3s 2ms/step - loss: 0.4984 - accuracy: 0.8862\n",
            "Epoch 43/50\n",
            "1875/1875 [==============================] - 3s 2ms/step - loss: 0.4949 - accuracy: 0.8875\n",
            "Epoch 44/50\n",
            "1875/1875 [==============================] - 3s 2ms/step - loss: 0.4963 - accuracy: 0.8867\n",
            "Epoch 45/50\n",
            "1875/1875 [==============================] - 3s 2ms/step - loss: 0.4968 - accuracy: 0.8871\n",
            "Epoch 46/50\n",
            "1875/1875 [==============================] - 3s 2ms/step - loss: 0.4941 - accuracy: 0.8872\n",
            "Epoch 47/50\n",
            "1875/1875 [==============================] - 3s 2ms/step - loss: 0.4950 - accuracy: 0.8873\n",
            "Epoch 48/50\n",
            "1875/1875 [==============================] - 3s 2ms/step - loss: 0.4930 - accuracy: 0.8892\n",
            "Epoch 49/50\n",
            "1875/1875 [==============================] - 3s 2ms/step - loss: 0.4921 - accuracy: 0.8880\n",
            "Epoch 50/50\n",
            "1875/1875 [==============================] - 3s 2ms/step - loss: 0.4914 - accuracy: 0.8895\n"
          ],
          "name": "stdout"
        },
        {
          "output_type": "execute_result",
          "data": {
            "text/plain": [
              "<tensorflow.python.keras.callbacks.History at 0x7f572686f850>"
            ]
          },
          "metadata": {
            "tags": []
          },
          "execution_count": 16
        }
      ]
    },
    {
      "cell_type": "code",
      "metadata": {
        "colab": {
          "base_uri": "https://localhost:8080/"
        },
        "id": "mMMdOD4fijhD",
        "outputId": "6c420bae-cfc2-40df-d33c-2e9f810ab0f9"
      },
      "source": [
        "# Evaluating the model on the test dataset.\n",
        "test_loss, test_acc = model1.evaluate(test_img,  test_labels, verbose=2)\n",
        "\n",
        "print('\\nTest accuracy:', test_acc)"
      ],
      "execution_count": null,
      "outputs": [
        {
          "output_type": "stream",
          "text": [
            "313/313 - 0s - loss: 0.6297 - accuracy: 0.8488\n",
            "\n",
            "Test accuracy: 0.848800003528595\n"
          ],
          "name": "stdout"
        }
      ]
    },
    {
      "cell_type": "markdown",
      "metadata": {
        "id": "16RQwBsvc6IB"
      },
      "source": [
        "**MODEL-2**\n",
        "\n",
        "Using the same model but with activity regularizer and bias regularizer as l2 regularisation."
      ]
    },
    {
      "cell_type": "code",
      "metadata": {
        "colab": {
          "base_uri": "https://localhost:8080/"
        },
        "id": "wJjulStNbSN6",
        "outputId": "30a9ae7f-1a56-42e6-9d3b-f7db704a1da8"
      },
      "source": [
        "# Set the seed.\n",
        "tf.random.set_seed(42)\n",
        "\n",
        "model2 = tf.keras.Sequential(name = 'MODEL-2')\n",
        "model2.add(tf.keras.layers.Flatten(input_shape = (28,28), name = 'input_layer'))\n",
        "model2.add(tf.keras.layers.Dense(50, activation='relu', bias_regularizer = 'l2', activity_regularizer = 'l2', name = 'layer1' ))\n",
        "model2.add(tf.keras.layers.Dense(25, activation = 'relu',bias_regularizer = 'l2', activity_regularizer = 'l2', name = 'layer2'))\n",
        "model2.add(tf.keras.layers.Dense(15, activation= 'relu', bias_regularizer = 'l2', activity_regularizer = 'l2', name = 'layer3'))\n",
        "model2.add(tf.keras.layers.Dense(10, activation = 'relu', bias_regularizer = 'l2', activity_regularizer = 'l2', name = 'output_layer'))\n",
        "\n",
        "# Used adam as a optimization function, sparse categorical cross entropy as loss function and accuracy as metrics \n",
        "model2.compile(optimizer = 'adam',\n",
        "              loss = tf.keras.losses.SparseCategoricalCrossentropy(from_logits = True),\n",
        "              metrics = 'accuracy')\n",
        "\n",
        "# Fit the model with training image and traning labels.\n",
        "model2.fit(train_img, train_labels, epochs = 15)"
      ],
      "execution_count": null,
      "outputs": [
        {
          "output_type": "stream",
          "text": [
            "Epoch 1/15\n",
            "1875/1875 [==============================] - 4s 2ms/step - loss: 1.2489 - accuracy: 0.7114\n",
            "Epoch 2/15\n",
            "1875/1875 [==============================] - 3s 2ms/step - loss: 1.0609 - accuracy: 0.7457\n",
            "Epoch 3/15\n",
            "1875/1875 [==============================] - 3s 2ms/step - loss: 1.0253 - accuracy: 0.7466\n",
            "Epoch 4/15\n",
            "1875/1875 [==============================] - 3s 2ms/step - loss: 1.0047 - accuracy: 0.7459\n",
            "Epoch 5/15\n",
            "1875/1875 [==============================] - 3s 2ms/step - loss: 0.9955 - accuracy: 0.7480\n",
            "Epoch 6/15\n",
            "1875/1875 [==============================] - 3s 2ms/step - loss: 0.9896 - accuracy: 0.7478\n",
            "Epoch 7/15\n",
            "1875/1875 [==============================] - 3s 2ms/step - loss: 0.9807 - accuracy: 0.7490\n",
            "Epoch 8/15\n",
            "1875/1875 [==============================] - 3s 2ms/step - loss: 0.9787 - accuracy: 0.7494\n",
            "Epoch 9/15\n",
            "1875/1875 [==============================] - 3s 2ms/step - loss: 0.9757 - accuracy: 0.7502\n",
            "Epoch 10/15\n",
            "1875/1875 [==============================] - 3s 2ms/step - loss: 0.9759 - accuracy: 0.7493\n",
            "Epoch 11/15\n",
            "1875/1875 [==============================] - 3s 2ms/step - loss: 0.9710 - accuracy: 0.7506\n",
            "Epoch 12/15\n",
            "1875/1875 [==============================] - 3s 2ms/step - loss: 0.9667 - accuracy: 0.7524\n",
            "Epoch 13/15\n",
            "1875/1875 [==============================] - 3s 2ms/step - loss: 0.9678 - accuracy: 0.7513\n",
            "Epoch 14/15\n",
            "1875/1875 [==============================] - 3s 2ms/step - loss: 0.9697 - accuracy: 0.7506\n",
            "Epoch 15/15\n",
            "1875/1875 [==============================] - 3s 2ms/step - loss: 0.9696 - accuracy: 0.7504\n"
          ],
          "name": "stdout"
        },
        {
          "output_type": "execute_result",
          "data": {
            "text/plain": [
              "<tensorflow.python.keras.callbacks.History at 0x7f5726750ad0>"
            ]
          },
          "metadata": {
            "tags": []
          },
          "execution_count": 18
        }
      ]
    },
    {
      "cell_type": "code",
      "metadata": {
        "colab": {
          "base_uri": "https://localhost:8080/"
        },
        "id": "FHp_hY_Ke7bI",
        "outputId": "015d51d0-af25-4cf8-deb2-b89d2709b0e9"
      },
      "source": [
        "model2.summary()"
      ],
      "execution_count": null,
      "outputs": [
        {
          "output_type": "stream",
          "text": [
            "Model: \"MODEL-2\"\n",
            "_________________________________________________________________\n",
            "Layer (type)                 Output Shape              Param #   \n",
            "=================================================================\n",
            "input_layer (Flatten)        (None, 784)               0         \n",
            "_________________________________________________________________\n",
            "layer1 (Dense)               (None, 50)                39250     \n",
            "_________________________________________________________________\n",
            "layer2 (Dense)               (None, 25)                1275      \n",
            "_________________________________________________________________\n",
            "layer3 (Dense)               (None, 15)                390       \n",
            "_________________________________________________________________\n",
            "output_layer (Dense)         (None, 10)                160       \n",
            "=================================================================\n",
            "Total params: 41,075\n",
            "Trainable params: 41,075\n",
            "Non-trainable params: 0\n",
            "_________________________________________________________________\n"
          ],
          "name": "stdout"
        }
      ]
    },
    {
      "cell_type": "code",
      "metadata": {
        "colab": {
          "base_uri": "https://localhost:8080/"
        },
        "id": "_iv3XtfAdW0N",
        "outputId": "f47a97b7-52c6-437b-ead2-4081ad0d7a65"
      },
      "source": [
        "# Evaluating the model on the test dataset.\n",
        "test_loss, test_acc = model2.evaluate(test_img,  test_labels, verbose=2)\n",
        "\n",
        "print('\\nTest accuracy:', test_acc)"
      ],
      "execution_count": null,
      "outputs": [
        {
          "output_type": "stream",
          "text": [
            "313/313 - 0s - loss: 1.0107 - accuracy: 0.7432\n",
            "\n",
            "Test accuracy: 0.7432000041007996\n"
          ],
          "name": "stdout"
        }
      ]
    },
    {
      "cell_type": "markdown",
      "metadata": {
        "id": "eloEaSZQe4lw"
      },
      "source": [
        "Let's run the model for longer time."
      ]
    },
    {
      "cell_type": "code",
      "metadata": {
        "colab": {
          "base_uri": "https://localhost:8080/"
        },
        "id": "9P7vGlPKeu4p",
        "outputId": "3400a2a6-b9fb-46c6-867f-0088a12c0b92"
      },
      "source": [
        "model2.fit(train_img, train_labels, epochs = 50)"
      ],
      "execution_count": null,
      "outputs": [
        {
          "output_type": "stream",
          "text": [
            "Epoch 1/50\n",
            "1875/1875 [==============================] - 3s 2ms/step - loss: 0.9653 - accuracy: 0.7506\n",
            "Epoch 2/50\n",
            "1875/1875 [==============================] - 3s 2ms/step - loss: 0.9689 - accuracy: 0.7513\n",
            "Epoch 3/50\n",
            "1875/1875 [==============================] - 3s 2ms/step - loss: 0.9658 - accuracy: 0.7503\n",
            "Epoch 4/50\n",
            "1875/1875 [==============================] - 3s 2ms/step - loss: 0.9708 - accuracy: 0.7501\n",
            "Epoch 5/50\n",
            "1875/1875 [==============================] - 3s 2ms/step - loss: 0.9709 - accuracy: 0.7505\n",
            "Epoch 6/50\n",
            "1875/1875 [==============================] - 3s 2ms/step - loss: 0.9684 - accuracy: 0.7518\n",
            "Epoch 7/50\n",
            "1875/1875 [==============================] - 3s 2ms/step - loss: 0.9707 - accuracy: 0.7517\n",
            "Epoch 8/50\n",
            "1875/1875 [==============================] - 3s 2ms/step - loss: 0.9692 - accuracy: 0.7514\n",
            "Epoch 9/50\n",
            "1875/1875 [==============================] - 3s 2ms/step - loss: 0.9643 - accuracy: 0.7520\n",
            "Epoch 10/50\n",
            "1875/1875 [==============================] - 3s 2ms/step - loss: 0.9668 - accuracy: 0.7508\n",
            "Epoch 11/50\n",
            "1875/1875 [==============================] - 3s 2ms/step - loss: 0.9684 - accuracy: 0.7513\n",
            "Epoch 12/50\n",
            "1875/1875 [==============================] - 3s 2ms/step - loss: 0.9680 - accuracy: 0.7528\n",
            "Epoch 13/50\n",
            "1875/1875 [==============================] - 3s 2ms/step - loss: 0.9691 - accuracy: 0.7505\n",
            "Epoch 14/50\n",
            "1875/1875 [==============================] - 3s 2ms/step - loss: 0.9725 - accuracy: 0.7471\n",
            "Epoch 15/50\n",
            "1875/1875 [==============================] - 3s 2ms/step - loss: 0.9751 - accuracy: 0.7485\n",
            "Epoch 16/50\n",
            "1875/1875 [==============================] - 3s 2ms/step - loss: 0.9751 - accuracy: 0.7482\n",
            "Epoch 17/50\n",
            "1875/1875 [==============================] - 3s 2ms/step - loss: 0.9704 - accuracy: 0.7515\n",
            "Epoch 18/50\n",
            "1875/1875 [==============================] - 3s 2ms/step - loss: 0.9749 - accuracy: 0.7502\n",
            "Epoch 19/50\n",
            "1875/1875 [==============================] - 3s 2ms/step - loss: 0.9566 - accuracy: 0.7712\n",
            "Epoch 20/50\n",
            "1875/1875 [==============================] - 3s 2ms/step - loss: 0.9087 - accuracy: 0.8059\n",
            "Epoch 21/50\n",
            "1875/1875 [==============================] - 3s 2ms/step - loss: 0.9012 - accuracy: 0.8065\n",
            "Epoch 22/50\n",
            "1875/1875 [==============================] - 3s 2ms/step - loss: 0.9011 - accuracy: 0.8067\n",
            "Epoch 23/50\n",
            "1875/1875 [==============================] - 3s 2ms/step - loss: 0.8989 - accuracy: 0.8069\n",
            "Epoch 24/50\n",
            "1875/1875 [==============================] - 3s 2ms/step - loss: 0.9060 - accuracy: 0.8061\n",
            "Epoch 25/50\n",
            "1875/1875 [==============================] - 3s 2ms/step - loss: 0.9140 - accuracy: 0.7985\n",
            "Epoch 26/50\n",
            "1875/1875 [==============================] - 3s 2ms/step - loss: 0.9092 - accuracy: 0.8054\n",
            "Epoch 27/50\n",
            "1875/1875 [==============================] - 3s 2ms/step - loss: 0.9060 - accuracy: 0.8069\n",
            "Epoch 28/50\n",
            "1875/1875 [==============================] - 3s 2ms/step - loss: 0.9080 - accuracy: 0.8049\n",
            "Epoch 29/50\n",
            "1875/1875 [==============================] - 3s 2ms/step - loss: 0.9094 - accuracy: 0.8063\n",
            "Epoch 30/50\n",
            "1875/1875 [==============================] - 3s 2ms/step - loss: 0.9090 - accuracy: 0.8074\n",
            "Epoch 31/50\n",
            "1875/1875 [==============================] - 3s 2ms/step - loss: 0.9126 - accuracy: 0.8043\n",
            "Epoch 32/50\n",
            "1875/1875 [==============================] - 3s 2ms/step - loss: 0.9081 - accuracy: 0.8059\n",
            "Epoch 33/50\n",
            "1875/1875 [==============================] - 3s 2ms/step - loss: 0.9352 - accuracy: 0.7950\n",
            "Epoch 34/50\n",
            "1875/1875 [==============================] - 3s 2ms/step - loss: 0.9158 - accuracy: 0.8019\n",
            "Epoch 35/50\n",
            "1875/1875 [==============================] - 3s 2ms/step - loss: 0.9145 - accuracy: 0.8063\n",
            "Epoch 36/50\n",
            "1875/1875 [==============================] - 3s 2ms/step - loss: 0.9177 - accuracy: 0.8002\n",
            "Epoch 37/50\n",
            "1875/1875 [==============================] - 3s 2ms/step - loss: 0.9110 - accuracy: 0.8044\n",
            "Epoch 38/50\n",
            "1875/1875 [==============================] - 3s 2ms/step - loss: 0.9066 - accuracy: 0.8066\n",
            "Epoch 39/50\n",
            "1875/1875 [==============================] - 3s 2ms/step - loss: 0.9086 - accuracy: 0.8058\n",
            "Epoch 40/50\n",
            "1875/1875 [==============================] - 3s 2ms/step - loss: 0.9056 - accuracy: 0.8080\n",
            "Epoch 41/50\n",
            "1875/1875 [==============================] - 3s 2ms/step - loss: 0.9184 - accuracy: 0.8036\n",
            "Epoch 42/50\n",
            "1875/1875 [==============================] - 3s 2ms/step - loss: 0.9129 - accuracy: 0.8073\n",
            "Epoch 43/50\n",
            "1875/1875 [==============================] - 3s 2ms/step - loss: 0.9161 - accuracy: 0.8021\n",
            "Epoch 44/50\n",
            "1875/1875 [==============================] - 3s 2ms/step - loss: 0.9682 - accuracy: 0.7828\n",
            "Epoch 45/50\n",
            "1875/1875 [==============================] - 3s 2ms/step - loss: 0.9191 - accuracy: 0.8040\n",
            "Epoch 46/50\n",
            "1875/1875 [==============================] - 3s 2ms/step - loss: 0.9225 - accuracy: 0.8009\n",
            "Epoch 47/50\n",
            "1875/1875 [==============================] - 3s 2ms/step - loss: 0.9319 - accuracy: 0.7952\n",
            "Epoch 48/50\n",
            "1875/1875 [==============================] - 3s 2ms/step - loss: 0.9091 - accuracy: 0.8072\n",
            "Epoch 49/50\n",
            "1875/1875 [==============================] - 3s 2ms/step - loss: 0.9339 - accuracy: 0.7996\n",
            "Epoch 50/50\n",
            "1875/1875 [==============================] - 3s 2ms/step - loss: 0.9197 - accuracy: 0.8001\n"
          ],
          "name": "stdout"
        },
        {
          "output_type": "execute_result",
          "data": {
            "text/plain": [
              "<tensorflow.python.keras.callbacks.History at 0x7f572686d510>"
            ]
          },
          "metadata": {
            "tags": []
          },
          "execution_count": 21
        }
      ]
    },
    {
      "cell_type": "code",
      "metadata": {
        "colab": {
          "base_uri": "https://localhost:8080/"
        },
        "id": "3j4n4uuVhwJK",
        "outputId": "b5c08396-399f-4652-e42f-5a616177672d"
      },
      "source": [
        "# Evaluating the model on the test dataset.\n",
        "test_loss, test_acc = model2.evaluate(test_img,  test_labels, verbose=2)\n",
        "\n",
        "print('\\nTest accuracy:', test_acc)"
      ],
      "execution_count": null,
      "outputs": [
        {
          "output_type": "stream",
          "text": [
            "313/313 - 0s - loss: 0.9986 - accuracy: 0.7780\n",
            "\n",
            "Test accuracy: 0.777999997138977\n"
          ],
          "name": "stdout"
        }
      ]
    },
    {
      "cell_type": "markdown",
      "metadata": {
        "id": "HPswxF9TgO9r"
      },
      "source": [
        "A problem with training neural networks is in the choice of the number of training epochs to use.\n",
        "\n",
        "Too many epochs can lead to overfitting of the training dataset, whereas too few may result in an underfit model. Early stopping is a method that allows you to specify an arbitrary large number of training epochs and stop training once the model performance stops improving on a hold out validation dataset.\n",
        "\n",
        "Assuming the goal of a training is to minimize the loss. With this, the metric to be monitored would be **'loss'**, and mode would be **'min'**.\n",
        "\n",
        "One of **{\"auto\", \"min\", \"max\"}**. In min mode, training will stop when the quantity monitored has stopped decreasing; in **\"max\"** mode it will stop when the quantity monitored has stopped increasing; in **\"auto\"** mode, the direction is automatically inferred from the name of the monitored quantity."
      ]
    },
    {
      "cell_type": "markdown",
      "metadata": {
        "id": "jIfTfxOHlgZ3"
      },
      "source": [
        "**MODEL-3** (Model-3 Same as Model-2 but With EarlyStopping callback)."
      ]
    },
    {
      "cell_type": "code",
      "metadata": {
        "colab": {
          "base_uri": "https://localhost:8080/"
        },
        "id": "RCk8fkvxfMZ7",
        "outputId": "14de1e28-e8d0-43f9-eccb-7fc3e121ad1e"
      },
      "source": [
        "# Set the seed.\n",
        "tf.random.set_seed(42)\n",
        "\n",
        "# Early Stopping callback.\n",
        "\n",
        "# This callback will stop the training when there is no improvement in the loss for two consecutive epochs.\n",
        "# GOAL- Loss has to be minimized.\n",
        "callback = tf.keras.callbacks.EarlyStopping(monitor = 'loss', mode= 'min', patience = 2, restore_best_weights = True)\n",
        "\n",
        "\n",
        "# This callback will stop the training when there is no improvement in the accuracy for two consecutive epochs.\n",
        "# GOAL- Accuracy has to be maximized.\n",
        "#callback = tf.keras.callbacks.EarlyStopping(monitor = 'accuracy', mode= 'max', patience = 2, restore_best_weights = True)\n",
        "\n",
        "\n",
        "## Sequential model.\n",
        "model3 = tf.keras.Sequential(name = 'MODEL-3')\n",
        "model3.add(tf.keras.layers.Flatten(input_shape = (28,28), name = 'input_layer'))\n",
        "model3.add(tf.keras.layers.Dense(50, activation='relu', bias_regularizer = 'l2', activity_regularizer = 'l2', name = 'layer1' ))\n",
        "model3.add(tf.keras.layers.Dense(25, activation = 'relu',bias_regularizer = 'l2', activity_regularizer = 'l2', name = 'layer2'))\n",
        "model3.add(tf.keras.layers.Dense(15, activation= 'relu', bias_regularizer = 'l2', activity_regularizer = 'l2', name = 'layer3'))\n",
        "model3.add(tf.keras.layers.Dense(10, activation = 'relu', bias_regularizer = 'l2', activity_regularizer = 'l2', name = 'output_layer'))\n",
        "\n",
        "# Used adam as a optimization function, sparse categorical cross entropy as loss function and accuracy as metrics. \n",
        "model3.compile(optimizer = 'adam',\n",
        "              loss = tf.keras.losses.SparseCategoricalCrossentropy(from_logits = True),\n",
        "              metrics = 'accuracy')\n",
        "\n",
        "# Fit the model with training image and traning labels.\n",
        "history = model3.fit(train_img, train_labels, epochs = 20, callbacks = [callback])"
      ],
      "execution_count": null,
      "outputs": [
        {
          "output_type": "stream",
          "text": [
            "Epoch 1/20\n",
            "1875/1875 [==============================] - 4s 2ms/step - loss: 1.2489 - accuracy: 0.7114\n",
            "Epoch 2/20\n",
            "1875/1875 [==============================] - 3s 2ms/step - loss: 1.0609 - accuracy: 0.7457\n",
            "Epoch 3/20\n",
            "1875/1875 [==============================] - 3s 2ms/step - loss: 1.0253 - accuracy: 0.7466\n",
            "Epoch 4/20\n",
            "1875/1875 [==============================] - 3s 2ms/step - loss: 1.0047 - accuracy: 0.7459\n",
            "Epoch 5/20\n",
            "1875/1875 [==============================] - 3s 2ms/step - loss: 0.9955 - accuracy: 0.7480\n",
            "Epoch 6/20\n",
            "1875/1875 [==============================] - 3s 2ms/step - loss: 0.9896 - accuracy: 0.7478\n",
            "Epoch 7/20\n",
            "1875/1875 [==============================] - 3s 2ms/step - loss: 0.9807 - accuracy: 0.7490\n",
            "Epoch 8/20\n",
            "1875/1875 [==============================] - 3s 2ms/step - loss: 0.9787 - accuracy: 0.7494\n",
            "Epoch 9/20\n",
            "1875/1875 [==============================] - 3s 2ms/step - loss: 0.9757 - accuracy: 0.7502\n",
            "Epoch 10/20\n",
            "1875/1875 [==============================] - 3s 2ms/step - loss: 0.9759 - accuracy: 0.7493\n",
            "Epoch 11/20\n",
            "1875/1875 [==============================] - 3s 2ms/step - loss: 0.9710 - accuracy: 0.7506\n",
            "Epoch 12/20\n",
            "1875/1875 [==============================] - 3s 2ms/step - loss: 0.9667 - accuracy: 0.7524\n",
            "Epoch 13/20\n",
            "1875/1875 [==============================] - 3s 2ms/step - loss: 0.9678 - accuracy: 0.7513\n",
            "Epoch 14/20\n",
            "1875/1875 [==============================] - 3s 2ms/step - loss: 0.9697 - accuracy: 0.7506\n"
          ],
          "name": "stdout"
        }
      ]
    },
    {
      "cell_type": "code",
      "metadata": {
        "colab": {
          "base_uri": "https://localhost:8080/"
        },
        "id": "rQ0EwaeUcnwR",
        "outputId": "6e28cc82-3b73-498f-df91-95b7ee49134c"
      },
      "source": [
        "# Evaluating the model on the test dataset.\n",
        "test_loss, test_acc = model3.evaluate(test_img,  test_labels, verbose=2)\n",
        "\n",
        "print('\\nTest accuracy:', test_acc)"
      ],
      "execution_count": null,
      "outputs": [
        {
          "output_type": "stream",
          "text": [
            "313/313 - 0s - loss: 1.0173 - accuracy: 0.7331\n",
            "\n",
            "Test accuracy: 0.7330999970436096\n"
          ],
          "name": "stdout"
        }
      ]
    },
    {
      "cell_type": "code",
      "metadata": {
        "colab": {
          "base_uri": "https://localhost:8080/"
        },
        "id": "L8Y1THSToUOQ",
        "outputId": "e02307b1-786e-4437-b196-b4f923bd4509"
      },
      "source": [
        "len(history.history['loss'])"
      ],
      "execution_count": null,
      "outputs": [
        {
          "output_type": "execute_result",
          "data": {
            "text/plain": [
              "14"
            ]
          },
          "metadata": {
            "tags": []
          },
          "execution_count": 25
        }
      ]
    },
    {
      "cell_type": "code",
      "metadata": {
        "colab": {
          "base_uri": "https://localhost:8080/",
          "height": 296
        },
        "id": "3ni6w52kzGFi",
        "outputId": "b2428a17-f36b-41d5-fa97-a6fcec7c5f69"
      },
      "source": [
        "# Plot. (Also known as a loss curve or training curve)\n",
        "pd.DataFrame(history.history).plot()\n",
        "plt.ylabel(\"Loss\")\n",
        "plt.xlabel(\"Epochs\")"
      ],
      "execution_count": null,
      "outputs": [
        {
          "output_type": "execute_result",
          "data": {
            "text/plain": [
              "Text(0.5, 0, 'Epochs')"
            ]
          },
          "metadata": {
            "tags": []
          },
          "execution_count": 26
        },
        {
          "output_type": "display_data",
          "data": {
            "image/png": "[encoded data removed]",
            "text/plain": [
              "<Figure size 432x288 with 1 Axes>"
            ]
          },
          "metadata": {
            "tags": [],
            "needs_background": "light"
          }
        }
      ]
    },
    {
      "cell_type": "markdown",
      "metadata": {
        "id": "RIUV2DlYoGdT"
      },
      "source": [
        "Model-4(same as the Model-1 but with EarlyStopping callback)"
      ]
    },
    {
      "cell_type": "code",
      "metadata": {
        "colab": {
          "base_uri": "https://localhost:8080/"
        },
        "id": "32Q3q96ObrNT",
        "outputId": "b760f780-bf4f-468a-ef91-0d4a9f511490"
      },
      "source": [
        "#set random seed.\n",
        "tf.random.set_seed(42)\n",
        "\n",
        "# This callback will stop the training when there is no improvement in the loss for two consecutive epochs.\n",
        "# GOAL- Loss has to be minimized.\n",
        "callback = tf.keras.callbacks.EarlyStopping(monitor = 'loss', mode= 'min', patience = 2, restore_best_weights = True)\n",
        "\n",
        "# This callback will stop the training when there is no improvement in the accuracy for two consecutive epochs.\n",
        "# GOAL- Accuracy has to be maximized.\n",
        "#callback = tf.keras.callbacks.EarlyStopping(monitor = 'accuracy', mode= 'max', patience = 2, restore_best_weights = True)\n",
        "\n",
        "\n",
        "# Sequential Model\n",
        "model4 = tf.keras.Sequential(name = 'MODEL-1')\n",
        "model4.add(tf.keras.layers.Flatten(input_shape = (28,28), name = 'input_layer' ))\n",
        "model4.add(tf.keras.layers.Dense(50, activation='relu', bias_regularizer = 'l1', activity_regularizer = 'l1', name = 'layer1' ))\n",
        "model4.add(tf.keras.layers.Dense(25, activation = 'relu',bias_regularizer = 'l1', activity_regularizer = 'l1', name = 'layer2'))\n",
        "model4.add(tf.keras.layers.Dense(15, activation= 'relu', bias_regularizer = 'l1', activity_regularizer = 'l1', name = 'layer3'))\n",
        "model4.add(tf.keras.layers.Dense(10, activation = 'relu', bias_regularizer = 'l1', activity_regularizer = 'l1', name = 'output_layer'))\n",
        "\n",
        "# Used adam as a optimization function, sparse categorical cross entropy as loss function and accuracy as metrics \n",
        "model4.compile(optimizer = 'adam',\n",
        "              loss = tf.keras.losses.SparseCategoricalCrossentropy(from_logits = True),\n",
        "              metrics = 'accuracy')\n",
        "\n",
        "# Fit the model with training image and traning labels.\n",
        "history1 = model4.fit(train_img, train_labels, epochs = 50, callbacks = [callback])"
      ],
      "execution_count": null,
      "outputs": [
        {
          "output_type": "stream",
          "text": [
            "Epoch 1/50\n",
            "1875/1875 [==============================] - 4s 2ms/step - loss: 1.1002 - accuracy: 0.7065\n",
            "Epoch 2/50\n",
            "1875/1875 [==============================] - 3s 2ms/step - loss: 0.8230 - accuracy: 0.7623\n",
            "Epoch 3/50\n",
            "1875/1875 [==============================] - 3s 2ms/step - loss: 0.7688 - accuracy: 0.7739\n",
            "Epoch 4/50\n",
            "1875/1875 [==============================] - 3s 2ms/step - loss: 0.7386 - accuracy: 0.7883\n",
            "Epoch 5/50\n",
            "1875/1875 [==============================] - 3s 2ms/step - loss: 0.6974 - accuracy: 0.8188\n",
            "Epoch 6/50\n",
            "1875/1875 [==============================] - 3s 2ms/step - loss: 0.6604 - accuracy: 0.8362\n",
            "Epoch 7/50\n",
            "1875/1875 [==============================] - 3s 2ms/step - loss: 0.6415 - accuracy: 0.8409\n",
            "Epoch 8/50\n",
            "1875/1875 [==============================] - 3s 2ms/step - loss: 0.6278 - accuracy: 0.8446\n",
            "Epoch 9/50\n",
            "1875/1875 [==============================] - 3s 2ms/step - loss: 0.6229 - accuracy: 0.8444\n",
            "Epoch 10/50\n",
            "1875/1875 [==============================] - 3s 2ms/step - loss: 0.6129 - accuracy: 0.8469\n",
            "Epoch 11/50\n",
            "1875/1875 [==============================] - 3s 2ms/step - loss: 0.6059 - accuracy: 0.8485\n",
            "Epoch 12/50\n",
            "1875/1875 [==============================] - 3s 2ms/step - loss: 0.6022 - accuracy: 0.8481\n",
            "Epoch 13/50\n",
            "1875/1875 [==============================] - 3s 2ms/step - loss: 0.5979 - accuracy: 0.8504\n",
            "Epoch 14/50\n",
            "1875/1875 [==============================] - 3s 2ms/step - loss: 0.5913 - accuracy: 0.8524\n",
            "Epoch 15/50\n",
            "1875/1875 [==============================] - 3s 2ms/step - loss: 0.5886 - accuracy: 0.8544\n",
            "Epoch 16/50\n",
            "1875/1875 [==============================] - 3s 2ms/step - loss: 0.5813 - accuracy: 0.8542\n",
            "Epoch 17/50\n",
            "1875/1875 [==============================] - 3s 2ms/step - loss: 0.5806 - accuracy: 0.8546\n",
            "Epoch 18/50\n",
            "1875/1875 [==============================] - 3s 2ms/step - loss: 0.5741 - accuracy: 0.8566\n",
            "Epoch 19/50\n",
            "1875/1875 [==============================] - 3s 2ms/step - loss: 0.5740 - accuracy: 0.8556\n",
            "Epoch 20/50\n",
            "1875/1875 [==============================] - 3s 2ms/step - loss: 0.5716 - accuracy: 0.8574\n",
            "Epoch 21/50\n",
            "1875/1875 [==============================] - 3s 2ms/step - loss: 0.5680 - accuracy: 0.8571\n",
            "Epoch 22/50\n",
            "1875/1875 [==============================] - 3s 2ms/step - loss: 0.5667 - accuracy: 0.8590\n",
            "Epoch 23/50\n",
            "1875/1875 [==============================] - 3s 2ms/step - loss: 0.5648 - accuracy: 0.8570\n",
            "Epoch 24/50\n",
            "1875/1875 [==============================] - 3s 2ms/step - loss: 0.5668 - accuracy: 0.8589\n",
            "Epoch 25/50\n",
            "1875/1875 [==============================] - 3s 2ms/step - loss: 0.5574 - accuracy: 0.8595\n",
            "Epoch 26/50\n",
            "1875/1875 [==============================] - 3s 2ms/step - loss: 0.5608 - accuracy: 0.8586\n",
            "Epoch 27/50\n",
            "1875/1875 [==============================] - 3s 2ms/step - loss: 0.5621 - accuracy: 0.8589\n"
          ],
          "name": "stdout"
        }
      ]
    },
    {
      "cell_type": "code",
      "metadata": {
        "colab": {
          "base_uri": "https://localhost:8080/"
        },
        "id": "vLDxyc6Jcb21",
        "outputId": "a37280e1-d869-49ab-e533-c845d7c3f4fc"
      },
      "source": [
        "# Evaluating the model on the test dataset.\n",
        "test_loss, test_acc = model4.evaluate(test_img,  test_labels, verbose=2)\n",
        "\n",
        "print('\\nTest accuracy:', test_acc)"
      ],
      "execution_count": null,
      "outputs": [
        {
          "output_type": "stream",
          "text": [
            "313/313 - 0s - loss: 0.6713 - accuracy: 0.8244\n",
            "\n",
            "Test accuracy: 0.824400007724762\n"
          ],
          "name": "stdout"
        }
      ]
    },
    {
      "cell_type": "code",
      "metadata": {
        "colab": {
          "base_uri": "https://localhost:8080/",
          "height": 296
        },
        "id": "XCzRUVX1c13r",
        "outputId": "b63f2399-95df-4fc6-d2cc-32328182a000"
      },
      "source": [
        "# Plot. (Also known as a loss curve or training curve)\n",
        "pd.DataFrame(history1.history).plot()\n",
        "plt.ylabel(\"Loss\")\n",
        "plt.xlabel(\"Epochs\")"
      ],
      "execution_count": null,
      "outputs": [
        {
          "output_type": "execute_result",
          "data": {
            "text/plain": [
              "Text(0.5, 0, 'Epochs')"
            ]
          },
          "metadata": {
            "tags": []
          },
          "execution_count": 29
        },
        {
          "output_type": "display_data",
          "data": {
            "image/png": "[encoded data removed]",
            "text/plain": [
              "<Figure size 432x288 with 1 Axes>"
            ]
          },
          "metadata": {
            "tags": [],
            "needs_background": "light"
          }
        }
      ]
    },
    {
      "cell_type": "markdown",
      "metadata": {
        "id": "umjHzZ02fJp6"
      },
      "source": [
        "**Make Predcition**\n",
        "\n",
        "With the model trained, you can use it to make predictions about some images. The model's linear outputs, logits. Attach a softmax layer to convert the logits to probabilities, which are easier to interpret.\n",
        "\n",
        "**Logits**-- The vector of raw (non-normalized) predictions that a classification model generates, which is ordinarily then passed to a normalization function. If the model is solving a multi-class classification problem, logits typically become an input to the softmax function. The softmax function then generates a vector of (normalized) probabilities with one value for each possible class.\n",
        "\n",
        "In addition, logits sometimes refer to the element-wise inverse of the sigmoid function."
      ]
    },
    {
      "cell_type": "code",
      "metadata": {
        "id": "YwsFaZdoeKNL"
      },
      "source": [
        "# Making a probability model\n",
        "probability_model1 = tf.keras.Sequential( [model1, tf.keras.layers.Softmax()] )"
      ],
      "execution_count": null,
      "outputs": []
    },
    {
      "cell_type": "code",
      "metadata": {
        "id": "ZvSivmPBjqnp"
      },
      "source": [
        "# Prediction by the model\n",
        "predictions1 = probability_model1.predict(test_img)"
      ],
      "execution_count": null,
      "outputs": []
    },
    {
      "cell_type": "code",
      "metadata": {
        "colab": {
          "base_uri": "https://localhost:8080/"
        },
        "id": "Xn8TCQ8_j0rC",
        "outputId": "47908665-c4e6-4c9b-b9ba-625a09c2ccc4"
      },
      "source": [
        "# See the model prediction for the first image. \n",
        "# Here, output is a probability distribution.\n",
        "predictions1[0], predictions1[0].max()"
      ],
      "execution_count": null,
      "outputs": [
        {
          "output_type": "execute_result",
          "data": {
            "text/plain": [
              "(array([0.00258764, 0.00258764, 0.00258764, 0.00258764, 0.00258764,\n",
              "        0.00258764, 0.00258764, 0.00258764, 0.00258764, 0.9767113 ],\n",
              "       dtype=float32), 0.9767113)"
            ]
          },
          "metadata": {
            "tags": []
          },
          "execution_count": 32
        }
      ]
    },
    {
      "cell_type": "markdown",
      "metadata": {
        "id": "-M6crLUdlnDE"
      },
      "source": [
        "A prediction is an array of 10 numbers. They represent the model's \"confidence\" that the image corresponds to each of the 10 different articles of clothing. We can see which label has the highest confidence value."
      ]
    },
    {
      "cell_type": "code",
      "metadata": {
        "colab": {
          "base_uri": "https://localhost:8080/"
        },
        "id": "rt0PU5nUj3Xw",
        "outputId": "d990e4f4-0f3b-4fe4-e080-8e66f543f998"
      },
      "source": [
        "# Viewing the prediction label.\n",
        "np.argmax(predictions1[0])"
      ],
      "execution_count": null,
      "outputs": [
        {
          "output_type": "execute_result",
          "data": {
            "text/plain": [
              "9"
            ]
          },
          "metadata": {
            "tags": []
          },
          "execution_count": 33
        }
      ]
    },
    {
      "cell_type": "code",
      "metadata": {
        "colab": {
          "base_uri": "https://localhost:8080/"
        },
        "id": "7L4zsCBakFk5",
        "outputId": "df7a5249-c334-4490-a1c5-8af229621d2e"
      },
      "source": [
        "# Viewing the true test labels.\n",
        "test_labels[0]"
      ],
      "execution_count": null,
      "outputs": [
        {
          "output_type": "execute_result",
          "data": {
            "text/plain": [
              "9"
            ]
          },
          "metadata": {
            "tags": []
          },
          "execution_count": 34
        }
      ]
    },
    {
      "cell_type": "markdown",
      "metadata": {
        "id": "fCbf2TcrLPEW"
      },
      "source": [
        "**Plot Function**"
      ]
    },
    {
      "cell_type": "code",
      "metadata": {
        "id": "tTI-iEbAkMbs"
      },
      "source": [
        "def plot_img(i, prediction_array, true_label, img):\n",
        "    true_label , img = true_label[i], img[i]\n",
        "    plt.grid(False)\n",
        "    plt.xticks([])\n",
        "    plt.yticks([])\n",
        "\n",
        "    plt.imshow(img, cmap = plt.cm.binary)\n",
        "\n",
        "    predicted_label = np.argmax(prediction_array)\n",
        "    \n",
        "    if predicted_label == true_label:\n",
        "        color = 'green'\n",
        "    else:\n",
        "        color = 'red'\n",
        "\n",
        "    plt.xlabel('{} {0.2f}% ({})'.format(class_names[predicted_label],\n",
        "                                        100*np.max(prediction_array),\n",
        "                                        class_names[true_label]),\n",
        "                                        color = color)"
      ],
      "execution_count": null,
      "outputs": []
    },
    {
      "cell_type": "code",
      "metadata": {
        "id": "hPv9P2_vmEog"
      },
      "source": [
        "plot_img(i, predictions1[i], test_labels, test_img)"
      ],
      "execution_count": null,
      "outputs": []
    },
    {
      "cell_type": "code",
      "metadata": {
        "id": "9LLR_8XNRrT5"
      },
      "source": [
        ""
      ],
      "execution_count": null,
      "outputs": []
    }
  ]
}